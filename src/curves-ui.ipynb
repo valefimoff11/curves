{
 "cells": [
  {
   "cell_type": "code",
   "execution_count": null,
   "id": "9a4a84d0-6924-405b-8e2d-2ce53d83543b",
   "metadata": {},
   "outputs": [],
   "source": [
    "import datamanagement.curves_data_manager as cdm\n",
    "import pandas as pd\n",
    "import ipywidgets as widgets\n",
    "from ipywidgets import interact\n",
    "from IPython.display import display"
   ]
  },
  {
   "cell_type": "markdown",
   "id": "36608ece-204b-4c29-8963-4850fe3fe0bb",
   "metadata": {},
   "source": [
    "**Enter Input Parameters:**"
   ]
  },
  {
   "cell_type": "code",
   "execution_count": null,
   "id": "a9f3ac03-c4f7-4404-aaa7-fde86671eefc",
   "metadata": {},
   "outputs": [],
   "source": [
    "input_folder_path = 'E:\\\\pyprojects\\\\curves\\\\curves\\\\sample-data\\\\'\n",
    "\n",
    "file_names = ['GLC Nominal daily data current month.xlsx',\n",
    "              'GLC Inflation daily data current month.xlsx',\n",
    "              'GLC Real daily data current month.xlsx',\n",
    "              'OIS daily data current month.xlsx']\n",
    "\n",
    "sheet_names = ['1. fwds, short end', '2. fwd curve', '3. spot, short end', '4. spot curve']\n",
    "\n",
    "dataset_names = []\n",
    "for file, sheet in zip(file_names, sheet_names):\n",
    "    dataset_names.append(file + ' ' + sheet)"
   ]
  },
  {
   "cell_type": "markdown",
   "id": "8d2a46f8-5a08-4bda-9131-803968c2f63a",
   "metadata": {},
   "source": [
    "**Select Dataset for Visualizations:**"
   ]
  },
  {
   "cell_type": "code",
   "execution_count": null,
   "id": "14ed8754-6b41-46b6-9ca5-133655f55ff2",
   "metadata": {
    "scrolled": true
   },
   "outputs": [],
   "source": [
    "combo_datasets = widgets.Combobox(\n",
    "    placeholder='Choose Option',\n",
    "    options=dataset_names,\n",
    "    description='Select Curves Dataset:',\n",
    "    ensure_option=True,\n",
    "    disabled=False\n",
    ")\n",
    "display(combo_datasets)"
   ]
  },
  {
   "cell_type": "code",
   "execution_count": null,
   "id": "f10693bf-577c-4025-b9c9-fa1cf7137fde",
   "metadata": {},
   "outputs": [],
   "source": [
    "print(combo_datasets.value)\n",
    "dataset_name = combo_datasets.value\n",
    "if dataset_name == '':\n",
    "    dataset_name = 'GLC Nominal daily data current month.xlsx 1. fwds, short end'"
   ]
  },
  {
   "cell_type": "code",
   "execution_count": null,
   "id": "3c0e2f89-f089-408b-9655-12ffd486aef5",
   "metadata": {},
   "outputs": [],
   "source": [
    "dm = cdm.CurvesDataManager(input_folder_path, file_names, sheet_names)"
   ]
  },
  {
   "cell_type": "code",
   "execution_count": null,
   "id": "c7e1dae9-5563-4215-a6d5-0dd62407f4fe",
   "metadata": {},
   "outputs": [],
   "source": [
    "dm.load_curve_data()\n",
    "\n",
    "dm.visualize_term_structure_all(dm.curve_data[dataset_name], dataset_name)"
   ]
  },
  {
   "cell_type": "code",
   "execution_count": null,
   "id": "4741a744-adec-4e73-b2d6-1b93143f7cc0",
   "metadata": {},
   "outputs": [],
   "source": [
    "curve_list = list(dm.curve_data[dataset_name].columns)\n",
    "curve_list.pop(0)"
   ]
  },
  {
   "cell_type": "markdown",
   "id": "f917d22b-5406-4295-b6c1-3baae6c9bc88",
   "metadata": {},
   "source": [
    "**Select Tenor for individual timeseries visualization:**"
   ]
  },
  {
   "cell_type": "code",
   "execution_count": null,
   "id": "c5d0cb47-8d85-4334-8fc2-4dfb7f50909e",
   "metadata": {},
   "outputs": [],
   "source": [
    "combo_tenors = widgets.Combobox(\n",
    "    placeholder='Choose Tenors',\n",
    "    options=curve_list,\n",
    "    description='Select Curves Dataset:',\n",
    "    ensure_option=True,\n",
    "    disabled=False\n",
    ")\n",
    "display(combo_tenors)"
   ]
  },
  {
   "cell_type": "code",
   "execution_count": null,
   "id": "25ece720-6bf4-4638-9274-a5f37e8d97fd",
   "metadata": {},
   "outputs": [],
   "source": [
    "curve = combo_tenors.value\n",
    "\n",
    "if curve == '':\n",
    "    curve = '5.0'\n"
   ]
  },
  {
   "cell_type": "code",
   "execution_count": null,
   "id": "74fc3565-3db7-486b-8c99-7bcf0d142da1",
   "metadata": {},
   "outputs": [],
   "source": [
    "dm.visualize_term_structure_specific(dm.curve_data[dataset_name], dataset_name, curve)"
   ]
  },
  {
   "cell_type": "code",
   "execution_count": null,
   "id": "33cb6689-3945-4d05-ba71-38399f3c12af",
   "metadata": {},
   "outputs": [],
   "source": [
    "dm.visualize_yield_curve_all(dm.curve_data[dataset_name], dataset_name)"
   ]
  },
  {
   "cell_type": "raw",
   "id": "2ea01192-52d0-4834-a86a-d46a9c36117b",
   "metadata": {
    "editable": true,
    "slideshow": {
     "slide_type": ""
    },
    "tags": []
   },
   "source": []
  },
  {
   "cell_type": "code",
   "execution_count": null,
   "id": "f5bb34bd-a327-4685-8fac-fd0d7de2fc0f",
   "metadata": {},
   "outputs": [],
   "source": []
  },
  {
   "cell_type": "code",
   "execution_count": null,
   "id": "8323cd7c-e582-4324-93d5-9bcbc4921596",
   "metadata": {},
   "outputs": [],
   "source": []
  },
  {
   "cell_type": "code",
   "execution_count": null,
   "id": "ef21f6f2-63a9-468a-a1d3-89345d334fbc",
   "metadata": {},
   "outputs": [],
   "source": []
  },
  {
   "cell_type": "code",
   "execution_count": null,
   "id": "40274a92-8973-45ed-81d1-9fd037cd059b",
   "metadata": {},
   "outputs": [],
   "source": []
  },
  {
   "cell_type": "code",
   "execution_count": null,
   "id": "be99dce4-6461-472a-9967-ba9d3531e11e",
   "metadata": {},
   "outputs": [],
   "source": []
  }
 ],
 "metadata": {
  "kernelspec": {
   "display_name": "Python 3 (ipykernel)",
   "language": "python",
   "name": "python3"
  },
  "language_info": {
   "codemirror_mode": {
    "name": "ipython",
    "version": 3
   },
   "file_extension": ".py",
   "mimetype": "text/x-python",
   "name": "python",
   "nbconvert_exporter": "python",
   "pygments_lexer": "ipython3",
   "version": "3.12.2"
  }
 },
 "nbformat": 4,
 "nbformat_minor": 5
}
